{
  "cells": [
    {
      "cell_type": "code",
      "execution_count": 7,
      "metadata": {
        "id": "BJKp1TXP9cGL"
      },
      "outputs": [],
      "source": [
        "import pandas as pd\n",
        "import matplotlib.pyplot as plt\n",
        "import seaborn as sns\n",
        "import warnings\n",
        "warnings.filterwarnings(\"ignore\")"
      ]
    },
    {
      "cell_type": "code",
      "execution_count": 8,
      "metadata": {
        "colab": {
          "base_uri": "https://localhost:8080/",
          "height": 654
        },
        "id": "R1MutSLM9mPp",
        "outputId": "d6602632-c45b-4d9b-e729-3eba73c37617"
      },
      "outputs": [
        {
          "data": {
            "application/vnd.microsoft.datawrangler.viewer.v0+json": {
              "columns": [
                {
                  "name": "index",
                  "rawType": "int64",
                  "type": "integer"
                },
                {
                  "name": "show_id",
                  "rawType": "object",
                  "type": "string"
                },
                {
                  "name": "type",
                  "rawType": "object",
                  "type": "string"
                },
                {
                  "name": "title",
                  "rawType": "object",
                  "type": "string"
                },
                {
                  "name": "director",
                  "rawType": "object",
                  "type": "unknown"
                },
                {
                  "name": "cast",
                  "rawType": "object",
                  "type": "unknown"
                },
                {
                  "name": "country",
                  "rawType": "object",
                  "type": "unknown"
                },
                {
                  "name": "date_added",
                  "rawType": "object",
                  "type": "string"
                },
                {
                  "name": "release_year",
                  "rawType": "int64",
                  "type": "integer"
                },
                {
                  "name": "rating",
                  "rawType": "object",
                  "type": "string"
                },
                {
                  "name": "duration",
                  "rawType": "object",
                  "type": "string"
                },
                {
                  "name": "listed_in",
                  "rawType": "object",
                  "type": "string"
                },
                {
                  "name": "description",
                  "rawType": "object",
                  "type": "string"
                },
                {
                  "name": "Unnamed: 12",
                  "rawType": "float64",
                  "type": "float"
                },
                {
                  "name": "Unnamed: 13",
                  "rawType": "float64",
                  "type": "float"
                },
                {
                  "name": "Unnamed: 14",
                  "rawType": "float64",
                  "type": "float"
                },
                {
                  "name": "Unnamed: 15",
                  "rawType": "float64",
                  "type": "float"
                },
                {
                  "name": "Unnamed: 16",
                  "rawType": "float64",
                  "type": "float"
                },
                {
                  "name": "Unnamed: 17",
                  "rawType": "float64",
                  "type": "float"
                },
                {
                  "name": "Unnamed: 18",
                  "rawType": "float64",
                  "type": "float"
                },
                {
                  "name": "Unnamed: 19",
                  "rawType": "float64",
                  "type": "float"
                },
                {
                  "name": "Unnamed: 20",
                  "rawType": "float64",
                  "type": "float"
                },
                {
                  "name": "Unnamed: 21",
                  "rawType": "float64",
                  "type": "float"
                },
                {
                  "name": "Unnamed: 22",
                  "rawType": "float64",
                  "type": "float"
                },
                {
                  "name": "Unnamed: 23",
                  "rawType": "float64",
                  "type": "float"
                },
                {
                  "name": "Unnamed: 24",
                  "rawType": "float64",
                  "type": "float"
                },
                {
                  "name": "Unnamed: 25",
                  "rawType": "float64",
                  "type": "float"
                }
              ],
              "conversionMethod": "pd.DataFrame",
              "ref": "a058ecd4-2bcb-416d-9361-a5eb9cc25523",
              "rows": [
                [
                  "0",
                  "s1",
                  "Movie",
                  "Dick Johnson Is Dead",
                  "Kirsten Johnson",
                  null,
                  "United States",
                  "September 25, 2021",
                  "2020",
                  "PG-13",
                  "90 min",
                  "Documentaries",
                  "As her father nears the end of his life, filmmaker Kirsten Johnson stages his death in inventive and comical ways to help them both face the inevitable.",
                  null,
                  null,
                  null,
                  null,
                  null,
                  null,
                  null,
                  null,
                  null,
                  null,
                  null,
                  null,
                  null,
                  null
                ],
                [
                  "1",
                  "s2",
                  "TV Show",
                  "Blood & Water",
                  null,
                  "Ama Qamata, Khosi Ngema, Gail Mabalane, Thabang Molaba, Dillon Windvogel, Natasha Thahane, Arno Greeff, Xolile Tshabalala, Getmore Sithole, Cindy Mahlangu, Ryle De Morny, Greteli Fincham, Sello Maake Ka-Ncube, Odwa Gwanya, Mekaila Mathys, Sandi Schultz, Duane Williams, Shamilla Miller, Patrick Mofokeng",
                  "South Africa",
                  "September 24, 2021",
                  "2021",
                  "TV-MA",
                  "2 Seasons",
                  "International TV Shows, TV Dramas, TV Mysteries",
                  "After crossing paths at a party, a Cape Town teen sets out to prove whether a private-school swimming star is her sister who was abducted at birth.",
                  null,
                  null,
                  null,
                  null,
                  null,
                  null,
                  null,
                  null,
                  null,
                  null,
                  null,
                  null,
                  null,
                  null
                ],
                [
                  "2",
                  "s3",
                  "TV Show",
                  "Ganglands",
                  "Julien Leclercq",
                  "Sami Bouajila, Tracy Gotoas, Samuel Jouy, Nabiha Akkari, Sofia Lesaffre, Salim Kechiouche, Noureddine Farihi, Geert Van Rampelberg, Bakary Diombera",
                  null,
                  "September 24, 2021",
                  "2021",
                  "TV-MA",
                  "1 Season",
                  "Crime TV Shows, International TV Shows, TV Action & Adventure",
                  "To protect his family from a powerful drug lord, skilled thief Mehdi and his expert team of robbers are pulled into a violent and deadly turf war.",
                  null,
                  null,
                  null,
                  null,
                  null,
                  null,
                  null,
                  null,
                  null,
                  null,
                  null,
                  null,
                  null,
                  null
                ],
                [
                  "3",
                  "s4",
                  "TV Show",
                  "Jailbirds New Orleans",
                  null,
                  null,
                  null,
                  "September 24, 2021",
                  "2021",
                  "TV-MA",
                  "1 Season",
                  "Docuseries, Reality TV",
                  "Feuds, flirtations and toilet talk go down among the incarcerated women at the Orleans Justice Center in New Orleans on this gritty reality series.",
                  null,
                  null,
                  null,
                  null,
                  null,
                  null,
                  null,
                  null,
                  null,
                  null,
                  null,
                  null,
                  null,
                  null
                ],
                [
                  "4",
                  "s5",
                  "TV Show",
                  "Kota Factory",
                  null,
                  "Mayur More, Jitendra Kumar, Ranjan Raj, Alam Khan, Ahsaas Channa, Revathi Pillai, Urvi Singh, Arun Kumar",
                  "India",
                  "September 24, 2021",
                  "2021",
                  "TV-MA",
                  "2 Seasons",
                  "International TV Shows, Romantic TV Shows, TV Comedies",
                  "In a city of coaching centers known to train Indiaâs finest collegiate minds, an earnest but unexceptional student and his friends navigate campus life.",
                  null,
                  null,
                  null,
                  null,
                  null,
                  null,
                  null,
                  null,
                  null,
                  null,
                  null,
                  null,
                  null,
                  null
                ]
              ],
              "shape": {
                "columns": 26,
                "rows": 5
              }
            },
            "text/html": [
              "<div>\n",
              "<style scoped>\n",
              "    .dataframe tbody tr th:only-of-type {\n",
              "        vertical-align: middle;\n",
              "    }\n",
              "\n",
              "    .dataframe tbody tr th {\n",
              "        vertical-align: top;\n",
              "    }\n",
              "\n",
              "    .dataframe thead th {\n",
              "        text-align: right;\n",
              "    }\n",
              "</style>\n",
              "<table border=\"1\" class=\"dataframe\">\n",
              "  <thead>\n",
              "    <tr style=\"text-align: right;\">\n",
              "      <th></th>\n",
              "      <th>show_id</th>\n",
              "      <th>type</th>\n",
              "      <th>title</th>\n",
              "      <th>director</th>\n",
              "      <th>cast</th>\n",
              "      <th>country</th>\n",
              "      <th>date_added</th>\n",
              "      <th>release_year</th>\n",
              "      <th>rating</th>\n",
              "      <th>duration</th>\n",
              "      <th>...</th>\n",
              "      <th>Unnamed: 16</th>\n",
              "      <th>Unnamed: 17</th>\n",
              "      <th>Unnamed: 18</th>\n",
              "      <th>Unnamed: 19</th>\n",
              "      <th>Unnamed: 20</th>\n",
              "      <th>Unnamed: 21</th>\n",
              "      <th>Unnamed: 22</th>\n",
              "      <th>Unnamed: 23</th>\n",
              "      <th>Unnamed: 24</th>\n",
              "      <th>Unnamed: 25</th>\n",
              "    </tr>\n",
              "  </thead>\n",
              "  <tbody>\n",
              "    <tr>\n",
              "      <th>0</th>\n",
              "      <td>s1</td>\n",
              "      <td>Movie</td>\n",
              "      <td>Dick Johnson Is Dead</td>\n",
              "      <td>Kirsten Johnson</td>\n",
              "      <td>NaN</td>\n",
              "      <td>United States</td>\n",
              "      <td>September 25, 2021</td>\n",
              "      <td>2020</td>\n",
              "      <td>PG-13</td>\n",
              "      <td>90 min</td>\n",
              "      <td>...</td>\n",
              "      <td>NaN</td>\n",
              "      <td>NaN</td>\n",
              "      <td>NaN</td>\n",
              "      <td>NaN</td>\n",
              "      <td>NaN</td>\n",
              "      <td>NaN</td>\n",
              "      <td>NaN</td>\n",
              "      <td>NaN</td>\n",
              "      <td>NaN</td>\n",
              "      <td>NaN</td>\n",
              "    </tr>\n",
              "    <tr>\n",
              "      <th>1</th>\n",
              "      <td>s2</td>\n",
              "      <td>TV Show</td>\n",
              "      <td>Blood &amp; Water</td>\n",
              "      <td>NaN</td>\n",
              "      <td>Ama Qamata, Khosi Ngema, Gail Mabalane, Thaban...</td>\n",
              "      <td>South Africa</td>\n",
              "      <td>September 24, 2021</td>\n",
              "      <td>2021</td>\n",
              "      <td>TV-MA</td>\n",
              "      <td>2 Seasons</td>\n",
              "      <td>...</td>\n",
              "      <td>NaN</td>\n",
              "      <td>NaN</td>\n",
              "      <td>NaN</td>\n",
              "      <td>NaN</td>\n",
              "      <td>NaN</td>\n",
              "      <td>NaN</td>\n",
              "      <td>NaN</td>\n",
              "      <td>NaN</td>\n",
              "      <td>NaN</td>\n",
              "      <td>NaN</td>\n",
              "    </tr>\n",
              "    <tr>\n",
              "      <th>2</th>\n",
              "      <td>s3</td>\n",
              "      <td>TV Show</td>\n",
              "      <td>Ganglands</td>\n",
              "      <td>Julien Leclercq</td>\n",
              "      <td>Sami Bouajila, Tracy Gotoas, Samuel Jouy, Nabi...</td>\n",
              "      <td>NaN</td>\n",
              "      <td>September 24, 2021</td>\n",
              "      <td>2021</td>\n",
              "      <td>TV-MA</td>\n",
              "      <td>1 Season</td>\n",
              "      <td>...</td>\n",
              "      <td>NaN</td>\n",
              "      <td>NaN</td>\n",
              "      <td>NaN</td>\n",
              "      <td>NaN</td>\n",
              "      <td>NaN</td>\n",
              "      <td>NaN</td>\n",
              "      <td>NaN</td>\n",
              "      <td>NaN</td>\n",
              "      <td>NaN</td>\n",
              "      <td>NaN</td>\n",
              "    </tr>\n",
              "    <tr>\n",
              "      <th>3</th>\n",
              "      <td>s4</td>\n",
              "      <td>TV Show</td>\n",
              "      <td>Jailbirds New Orleans</td>\n",
              "      <td>NaN</td>\n",
              "      <td>NaN</td>\n",
              "      <td>NaN</td>\n",
              "      <td>September 24, 2021</td>\n",
              "      <td>2021</td>\n",
              "      <td>TV-MA</td>\n",
              "      <td>1 Season</td>\n",
              "      <td>...</td>\n",
              "      <td>NaN</td>\n",
              "      <td>NaN</td>\n",
              "      <td>NaN</td>\n",
              "      <td>NaN</td>\n",
              "      <td>NaN</td>\n",
              "      <td>NaN</td>\n",
              "      <td>NaN</td>\n",
              "      <td>NaN</td>\n",
              "      <td>NaN</td>\n",
              "      <td>NaN</td>\n",
              "    </tr>\n",
              "    <tr>\n",
              "      <th>4</th>\n",
              "      <td>s5</td>\n",
              "      <td>TV Show</td>\n",
              "      <td>Kota Factory</td>\n",
              "      <td>NaN</td>\n",
              "      <td>Mayur More, Jitendra Kumar, Ranjan Raj, Alam K...</td>\n",
              "      <td>India</td>\n",
              "      <td>September 24, 2021</td>\n",
              "      <td>2021</td>\n",
              "      <td>TV-MA</td>\n",
              "      <td>2 Seasons</td>\n",
              "      <td>...</td>\n",
              "      <td>NaN</td>\n",
              "      <td>NaN</td>\n",
              "      <td>NaN</td>\n",
              "      <td>NaN</td>\n",
              "      <td>NaN</td>\n",
              "      <td>NaN</td>\n",
              "      <td>NaN</td>\n",
              "      <td>NaN</td>\n",
              "      <td>NaN</td>\n",
              "      <td>NaN</td>\n",
              "    </tr>\n",
              "  </tbody>\n",
              "</table>\n",
              "<p>5 rows × 26 columns</p>\n",
              "</div>"
            ],
            "text/plain": [
              "  show_id     type                  title         director  \\\n",
              "0      s1    Movie   Dick Johnson Is Dead  Kirsten Johnson   \n",
              "1      s2  TV Show          Blood & Water              NaN   \n",
              "2      s3  TV Show              Ganglands  Julien Leclercq   \n",
              "3      s4  TV Show  Jailbirds New Orleans              NaN   \n",
              "4      s5  TV Show           Kota Factory              NaN   \n",
              "\n",
              "                                                cast        country  \\\n",
              "0                                                NaN  United States   \n",
              "1  Ama Qamata, Khosi Ngema, Gail Mabalane, Thaban...   South Africa   \n",
              "2  Sami Bouajila, Tracy Gotoas, Samuel Jouy, Nabi...            NaN   \n",
              "3                                                NaN            NaN   \n",
              "4  Mayur More, Jitendra Kumar, Ranjan Raj, Alam K...          India   \n",
              "\n",
              "           date_added  release_year rating   duration  ... Unnamed: 16  \\\n",
              "0  September 25, 2021          2020  PG-13     90 min  ...         NaN   \n",
              "1  September 24, 2021          2021  TV-MA  2 Seasons  ...         NaN   \n",
              "2  September 24, 2021          2021  TV-MA   1 Season  ...         NaN   \n",
              "3  September 24, 2021          2021  TV-MA   1 Season  ...         NaN   \n",
              "4  September 24, 2021          2021  TV-MA  2 Seasons  ...         NaN   \n",
              "\n",
              "  Unnamed: 17  Unnamed: 18  Unnamed: 19  Unnamed: 20  Unnamed: 21  \\\n",
              "0         NaN          NaN          NaN          NaN          NaN   \n",
              "1         NaN          NaN          NaN          NaN          NaN   \n",
              "2         NaN          NaN          NaN          NaN          NaN   \n",
              "3         NaN          NaN          NaN          NaN          NaN   \n",
              "4         NaN          NaN          NaN          NaN          NaN   \n",
              "\n",
              "   Unnamed: 22  Unnamed: 23  Unnamed: 24  Unnamed: 25  \n",
              "0          NaN          NaN          NaN          NaN  \n",
              "1          NaN          NaN          NaN          NaN  \n",
              "2          NaN          NaN          NaN          NaN  \n",
              "3          NaN          NaN          NaN          NaN  \n",
              "4          NaN          NaN          NaN          NaN  \n",
              "\n",
              "[5 rows x 26 columns]"
            ]
          },
          "execution_count": 8,
          "metadata": {},
          "output_type": "execute_result"
        }
      ],
      "source": [
        "data = pd.read_csv(r\"C:\\Users\\karpo\\OneDrive\\Desktop\\Netflix\\netflix_titles.csv\", encoding='latin1')\n",
        "data.head()"
      ]
    },
    {
      "cell_type": "markdown",
      "metadata": {
        "id": "y08qnC0sRkpk"
      },
      "source": [
        "Lets delete useless columns"
      ]
    },
    {
      "cell_type": "code",
      "execution_count": 9,
      "metadata": {
        "colab": {
          "base_uri": "https://localhost:8080/",
          "height": 642
        },
        "id": "vJQP6RBWIhtO",
        "outputId": "4bd2e8c6-5770-497b-d2c2-fa4713f64078"
      },
      "outputs": [
        {
          "data": {
            "application/vnd.microsoft.datawrangler.viewer.v0+json": {
              "columns": [
                {
                  "name": "index",
                  "rawType": "int64",
                  "type": "integer"
                },
                {
                  "name": "show_id",
                  "rawType": "object",
                  "type": "string"
                },
                {
                  "name": "type",
                  "rawType": "object",
                  "type": "string"
                },
                {
                  "name": "title",
                  "rawType": "object",
                  "type": "string"
                },
                {
                  "name": "director",
                  "rawType": "object",
                  "type": "unknown"
                },
                {
                  "name": "cast",
                  "rawType": "object",
                  "type": "unknown"
                },
                {
                  "name": "country",
                  "rawType": "object",
                  "type": "unknown"
                },
                {
                  "name": "date_added",
                  "rawType": "object",
                  "type": "string"
                },
                {
                  "name": "release_year",
                  "rawType": "int64",
                  "type": "integer"
                },
                {
                  "name": "rating",
                  "rawType": "object",
                  "type": "string"
                },
                {
                  "name": "duration",
                  "rawType": "object",
                  "type": "string"
                },
                {
                  "name": "listed_in",
                  "rawType": "object",
                  "type": "string"
                },
                {
                  "name": "description",
                  "rawType": "object",
                  "type": "string"
                }
              ],
              "conversionMethod": "pd.DataFrame",
              "ref": "ea10684b-89aa-458e-ad86-fb0b0556d09b",
              "rows": [
                [
                  "0",
                  "s1",
                  "Movie",
                  "Dick Johnson Is Dead",
                  "Kirsten Johnson",
                  null,
                  "United States",
                  "September 25, 2021",
                  "2020",
                  "PG-13",
                  "90 min",
                  "Documentaries",
                  "As her father nears the end of his life, filmmaker Kirsten Johnson stages his death in inventive and comical ways to help them both face the inevitable."
                ],
                [
                  "1",
                  "s2",
                  "TV Show",
                  "Blood & Water",
                  null,
                  "Ama Qamata, Khosi Ngema, Gail Mabalane, Thabang Molaba, Dillon Windvogel, Natasha Thahane, Arno Greeff, Xolile Tshabalala, Getmore Sithole, Cindy Mahlangu, Ryle De Morny, Greteli Fincham, Sello Maake Ka-Ncube, Odwa Gwanya, Mekaila Mathys, Sandi Schultz, Duane Williams, Shamilla Miller, Patrick Mofokeng",
                  "South Africa",
                  "September 24, 2021",
                  "2021",
                  "TV-MA",
                  "2 Seasons",
                  "International TV Shows, TV Dramas, TV Mysteries",
                  "After crossing paths at a party, a Cape Town teen sets out to prove whether a private-school swimming star is her sister who was abducted at birth."
                ],
                [
                  "2",
                  "s3",
                  "TV Show",
                  "Ganglands",
                  "Julien Leclercq",
                  "Sami Bouajila, Tracy Gotoas, Samuel Jouy, Nabiha Akkari, Sofia Lesaffre, Salim Kechiouche, Noureddine Farihi, Geert Van Rampelberg, Bakary Diombera",
                  null,
                  "September 24, 2021",
                  "2021",
                  "TV-MA",
                  "1 Season",
                  "Crime TV Shows, International TV Shows, TV Action & Adventure",
                  "To protect his family from a powerful drug lord, skilled thief Mehdi and his expert team of robbers are pulled into a violent and deadly turf war."
                ],
                [
                  "3",
                  "s4",
                  "TV Show",
                  "Jailbirds New Orleans",
                  null,
                  null,
                  null,
                  "September 24, 2021",
                  "2021",
                  "TV-MA",
                  "1 Season",
                  "Docuseries, Reality TV",
                  "Feuds, flirtations and toilet talk go down among the incarcerated women at the Orleans Justice Center in New Orleans on this gritty reality series."
                ],
                [
                  "4",
                  "s5",
                  "TV Show",
                  "Kota Factory",
                  null,
                  "Mayur More, Jitendra Kumar, Ranjan Raj, Alam Khan, Ahsaas Channa, Revathi Pillai, Urvi Singh, Arun Kumar",
                  "India",
                  "September 24, 2021",
                  "2021",
                  "TV-MA",
                  "2 Seasons",
                  "International TV Shows, Romantic TV Shows, TV Comedies",
                  "In a city of coaching centers known to train Indiaâs finest collegiate minds, an earnest but unexceptional student and his friends navigate campus life."
                ]
              ],
              "shape": {
                "columns": 12,
                "rows": 5
              }
            },
            "text/html": [
              "<div>\n",
              "<style scoped>\n",
              "    .dataframe tbody tr th:only-of-type {\n",
              "        vertical-align: middle;\n",
              "    }\n",
              "\n",
              "    .dataframe tbody tr th {\n",
              "        vertical-align: top;\n",
              "    }\n",
              "\n",
              "    .dataframe thead th {\n",
              "        text-align: right;\n",
              "    }\n",
              "</style>\n",
              "<table border=\"1\" class=\"dataframe\">\n",
              "  <thead>\n",
              "    <tr style=\"text-align: right;\">\n",
              "      <th></th>\n",
              "      <th>show_id</th>\n",
              "      <th>type</th>\n",
              "      <th>title</th>\n",
              "      <th>director</th>\n",
              "      <th>cast</th>\n",
              "      <th>country</th>\n",
              "      <th>date_added</th>\n",
              "      <th>release_year</th>\n",
              "      <th>rating</th>\n",
              "      <th>duration</th>\n",
              "      <th>listed_in</th>\n",
              "      <th>description</th>\n",
              "    </tr>\n",
              "  </thead>\n",
              "  <tbody>\n",
              "    <tr>\n",
              "      <th>0</th>\n",
              "      <td>s1</td>\n",
              "      <td>Movie</td>\n",
              "      <td>Dick Johnson Is Dead</td>\n",
              "      <td>Kirsten Johnson</td>\n",
              "      <td>NaN</td>\n",
              "      <td>United States</td>\n",
              "      <td>September 25, 2021</td>\n",
              "      <td>2020</td>\n",
              "      <td>PG-13</td>\n",
              "      <td>90 min</td>\n",
              "      <td>Documentaries</td>\n",
              "      <td>As her father nears the end of his life, filmm...</td>\n",
              "    </tr>\n",
              "    <tr>\n",
              "      <th>1</th>\n",
              "      <td>s2</td>\n",
              "      <td>TV Show</td>\n",
              "      <td>Blood &amp; Water</td>\n",
              "      <td>NaN</td>\n",
              "      <td>Ama Qamata, Khosi Ngema, Gail Mabalane, Thaban...</td>\n",
              "      <td>South Africa</td>\n",
              "      <td>September 24, 2021</td>\n",
              "      <td>2021</td>\n",
              "      <td>TV-MA</td>\n",
              "      <td>2 Seasons</td>\n",
              "      <td>International TV Shows, TV Dramas, TV Mysteries</td>\n",
              "      <td>After crossing paths at a party, a Cape Town t...</td>\n",
              "    </tr>\n",
              "    <tr>\n",
              "      <th>2</th>\n",
              "      <td>s3</td>\n",
              "      <td>TV Show</td>\n",
              "      <td>Ganglands</td>\n",
              "      <td>Julien Leclercq</td>\n",
              "      <td>Sami Bouajila, Tracy Gotoas, Samuel Jouy, Nabi...</td>\n",
              "      <td>NaN</td>\n",
              "      <td>September 24, 2021</td>\n",
              "      <td>2021</td>\n",
              "      <td>TV-MA</td>\n",
              "      <td>1 Season</td>\n",
              "      <td>Crime TV Shows, International TV Shows, TV Act...</td>\n",
              "      <td>To protect his family from a powerful drug lor...</td>\n",
              "    </tr>\n",
              "    <tr>\n",
              "      <th>3</th>\n",
              "      <td>s4</td>\n",
              "      <td>TV Show</td>\n",
              "      <td>Jailbirds New Orleans</td>\n",
              "      <td>NaN</td>\n",
              "      <td>NaN</td>\n",
              "      <td>NaN</td>\n",
              "      <td>September 24, 2021</td>\n",
              "      <td>2021</td>\n",
              "      <td>TV-MA</td>\n",
              "      <td>1 Season</td>\n",
              "      <td>Docuseries, Reality TV</td>\n",
              "      <td>Feuds, flirtations and toilet talk go down amo...</td>\n",
              "    </tr>\n",
              "    <tr>\n",
              "      <th>4</th>\n",
              "      <td>s5</td>\n",
              "      <td>TV Show</td>\n",
              "      <td>Kota Factory</td>\n",
              "      <td>NaN</td>\n",
              "      <td>Mayur More, Jitendra Kumar, Ranjan Raj, Alam K...</td>\n",
              "      <td>India</td>\n",
              "      <td>September 24, 2021</td>\n",
              "      <td>2021</td>\n",
              "      <td>TV-MA</td>\n",
              "      <td>2 Seasons</td>\n",
              "      <td>International TV Shows, Romantic TV Shows, TV ...</td>\n",
              "      <td>In a city of coaching centers known to train I...</td>\n",
              "    </tr>\n",
              "  </tbody>\n",
              "</table>\n",
              "</div>"
            ],
            "text/plain": [
              "  show_id     type                  title         director  \\\n",
              "0      s1    Movie   Dick Johnson Is Dead  Kirsten Johnson   \n",
              "1      s2  TV Show          Blood & Water              NaN   \n",
              "2      s3  TV Show              Ganglands  Julien Leclercq   \n",
              "3      s4  TV Show  Jailbirds New Orleans              NaN   \n",
              "4      s5  TV Show           Kota Factory              NaN   \n",
              "\n",
              "                                                cast        country  \\\n",
              "0                                                NaN  United States   \n",
              "1  Ama Qamata, Khosi Ngema, Gail Mabalane, Thaban...   South Africa   \n",
              "2  Sami Bouajila, Tracy Gotoas, Samuel Jouy, Nabi...            NaN   \n",
              "3                                                NaN            NaN   \n",
              "4  Mayur More, Jitendra Kumar, Ranjan Raj, Alam K...          India   \n",
              "\n",
              "           date_added  release_year rating   duration  \\\n",
              "0  September 25, 2021          2020  PG-13     90 min   \n",
              "1  September 24, 2021          2021  TV-MA  2 Seasons   \n",
              "2  September 24, 2021          2021  TV-MA   1 Season   \n",
              "3  September 24, 2021          2021  TV-MA   1 Season   \n",
              "4  September 24, 2021          2021  TV-MA  2 Seasons   \n",
              "\n",
              "                                           listed_in  \\\n",
              "0                                      Documentaries   \n",
              "1    International TV Shows, TV Dramas, TV Mysteries   \n",
              "2  Crime TV Shows, International TV Shows, TV Act...   \n",
              "3                             Docuseries, Reality TV   \n",
              "4  International TV Shows, Romantic TV Shows, TV ...   \n",
              "\n",
              "                                         description  \n",
              "0  As her father nears the end of his life, filmm...  \n",
              "1  After crossing paths at a party, a Cape Town t...  \n",
              "2  To protect his family from a powerful drug lor...  \n",
              "3  Feuds, flirtations and toilet talk go down amo...  \n",
              "4  In a city of coaching centers known to train I...  "
            ]
          },
          "execution_count": 9,
          "metadata": {},
          "output_type": "execute_result"
        }
      ],
      "source": [
        "data=data.drop(['Unnamed: 12', 'Unnamed: 13', 'Unnamed: 14', 'Unnamed: 15',\n",
        "       'Unnamed: 16', 'Unnamed: 17', 'Unnamed: 18', 'Unnamed: 19',\n",
        "       'Unnamed: 20', 'Unnamed: 21', 'Unnamed: 22', 'Unnamed: 23',\n",
        "       'Unnamed: 24', 'Unnamed: 25'],axis=1)\n",
        "data.head()"
      ]
    },
    {
      "cell_type": "code",
      "execution_count": 10,
      "metadata": {
        "id": "7oP81wLxVQdT"
      },
      "outputs": [],
      "source": [
        "data=data.dropna(subset=['rating','duration','date_added'])\n",
        "data=data.fillna('Unknown')\n",
        "net_films=data[data['type']==\"Movie\"].copy()\n",
        "net_shows=data[data['type']==\"TV Show\"].copy()"
      ]
    },
    {
      "cell_type": "code",
      "execution_count": null,
      "metadata": {
        "id": "ZoBFabQFIrGY"
      },
      "outputs": [],
      "source": []
    },
    {
      "cell_type": "markdown",
      "metadata": {
        "id": "p-cubfudHdWT"
      },
      "source": [
        "#Lets see what more on Netflix platform films or TV shows"
      ]
    },
    {
      "cell_type": "code",
      "execution_count": 11,
      "metadata": {
        "id": "cswoh35HSEyr"
      },
      "outputs": [],
      "source": [
        "types=data['type']. value_counts()"
      ]
    },
    {
      "cell_type": "code",
      "execution_count": 12,
      "metadata": {
        "colab": {
          "base_uri": "https://localhost:8080/",
          "height": 531
        },
        "id": "BOM6aC0SOY-q",
        "outputId": "73034015-0cbb-46ef-90bd-60c167907ad3"
      },
      "outputs": [
        {
          "data": {
            "image/png": "[encoded data removed]",
            "text/plain": [
              "<Figure size 640x480 with 1 Axes>"
            ]
          },
          "metadata": {},
          "output_type": "display_data"
        }
      ],
      "source": [
        "types.plot(kind='bar',color=['blue','red'])\n",
        "plt.title('Количество фильмов и сериалов')\n",
        "plt.xlabel('Тип контента')\n",
        "plt.ylabel('Количество')\n",
        "plt.show()\n"
      ]
    },
    {
      "cell_type": "markdown",
      "metadata": {
        "id": "guxOUJAzUHSh"
      },
      "source": [
        "We can see that netflix platform has more films then TV shows"
      ]
    },
    {
      "cell_type": "markdown",
      "metadata": {
        "id": "ZdKY575y7rqz"
      },
      "source": [
        "# Lets work with movies"
      ]
    },
    {
      "cell_type": "markdown",
      "metadata": {
        "id": "bJDmOTAbHrvs"
      },
      "source": [
        "\n",
        "Top 10 countries that produce movies"
      ]
    },
    {
      "cell_type": "code",
      "execution_count": 13,
      "metadata": {
        "colab": {
          "base_uri": "https://localhost:8080/",
          "height": 489
        },
        "id": "7GMlgtuYlOkO",
        "outputId": "2a0b7ec0-20dc-45be-eb7a-9ff14dbff559"
      },
      "outputs": [
        {
          "data": {
            "text/plain": [
              "country\n",
              "United States                            2056\n",
              "India                                     893\n",
              "Unknown                                   439\n",
              "United Kingdom                            206\n",
              "Canada                                    122\n",
              "                                         ... \n",
              "United Kingdom, Russia, United States       1\n",
              "Paraguay, Argentina                         1\n",
              "United Kingdom, Malawi                      1\n",
              "Austria, Iraq, United States                1\n",
              "United Arab Emirates, Jordan                1\n",
              "Name: count, Length: 652, dtype: int64"
            ]
          },
          "execution_count": 13,
          "metadata": {},
          "output_type": "execute_result"
        }
      ],
      "source": [
        "net_films['country'].value_counts()"
      ]
    },
    {
      "cell_type": "code",
      "execution_count": 14,
      "metadata": {
        "id": "NQFzH2yRiTII"
      },
      "outputs": [],
      "source": [
        "country_count={}\n",
        "col=net_films['country']\n",
        "for i in col:\n",
        "  i=i.replace(' ','')\n",
        "  i=list(i.split(','))\n",
        "  for j in i:\n",
        "    country_count[j]=country_count.get(j,1)+1\n"
      ]
    },
    {
      "cell_type": "code",
      "execution_count": 15,
      "metadata": {
        "id": "bRXA1necjbi-"
      },
      "outputs": [],
      "source": [
        "popular_countries=sorted(country_count.items(), key=lambda item: country_count[item[0]], reverse=True)"
      ]
    },
    {
      "cell_type": "code",
      "execution_count": 16,
      "metadata": {
        "id": "utcvKaUQlFBU"
      },
      "outputs": [],
      "source": [
        "popular_countries=popular_countries[:10]\n",
        "names=[name for name,amount in popular_countries]\n",
        "amount=[amount for name, amount in popular_countries]"
      ]
    },
    {
      "cell_type": "code",
      "execution_count": 17,
      "metadata": {
        "colab": {
          "base_uri": "https://localhost:8080/",
          "height": 976
        },
        "id": "5V8ih4t0mvvq",
        "outputId": "e2ee41cc-1bba-4e65-ead7-03113c9e40a5"
      },
      "outputs": [
        {
          "data": {
            "text/plain": [
              "Text(0.5, 1.0, 'Country')"
            ]
          },
          "execution_count": 17,
          "metadata": {},
          "output_type": "execute_result"
        },
        {
          "data": {
            "image/png": "[encoded data removed]",
            "text/plain": [
              "<Figure size 1000x1000 with 1 Axes>"
            ]
          },
          "metadata": {},
          "output_type": "display_data"
        }
      ],
      "source": [
        "plt.figure(figsize=(10,10))\n",
        "ax = sns.barplot(x=names, y=amount)\n",
        "ax.set_xticklabels(names, rotation=70)\n",
        "ax.set_ylabel(\"Count of movies\")\n",
        "ax.set_title(\"Country\")"
      ]
    },
    {
      "cell_type": "markdown",
      "metadata": {
        "id": "T9lemCAC780P"
      },
      "source": [
        "Popular movie genres"
      ]
    },
    {
      "cell_type": "code",
      "execution_count": 18,
      "metadata": {
        "id": "tqGf98nZskR9"
      },
      "outputs": [],
      "source": [
        "frec_genres={}\n",
        "col=net_films['listed_in']\n",
        "for i in col:\n",
        "  i=i.replace(' ','')\n",
        "  i=list(i.split(','))\n",
        "  for j in i:\n",
        "    frec_genres[j]=frec_genres.get(j,1)+1"
      ]
    },
    {
      "cell_type": "code",
      "execution_count": 19,
      "metadata": {
        "id": "0pIAkFbuClRy"
      },
      "outputs": [],
      "source": [
        "popular_genres=sorted(frec_genres.items(), key=lambda item: frec_genres[item[0]], reverse=True)\n",
        "genres=[name for name,count in popular_genres]\n",
        "value=[count for name,count in popular_genres]"
      ]
    },
    {
      "cell_type": "code",
      "execution_count": 20,
      "metadata": {
        "colab": {
          "base_uri": "https://localhost:8080/",
          "height": 1000
        },
        "id": "e-i3gJjOClUp",
        "outputId": "1c96c109-c816-49ca-f149-57fa97881f03"
      },
      "outputs": [
        {
          "data": {
            "text/plain": [
              "Text(0.5, 1.0, 'Genres')"
            ]
          },
          "execution_count": 20,
          "metadata": {},
          "output_type": "execute_result"
        },
        {
          "data": {
            "image/png": "[encoded data removed]",
            "text/plain": [
              "<Figure size 1000x1000 with 1 Axes>"
            ]
          },
          "metadata": {},
          "output_type": "display_data"
        }
      ],
      "source": [
        "fig = plt.figure(figsize = (10, 10))\n",
        "ax = sns.barplot(x=genres, y=value)\n",
        "\n",
        "ax.set_xticklabels(genres, rotation=70)\n",
        "ax.set_ylabel(\"Count of movies\")\n",
        "ax.set_title(\"Genres\")\n"
      ]
    },
    {
      "cell_type": "markdown",
      "metadata": {
        "id": "sgWSSY_yPIpU"
      },
      "source": [
        "Popular movie genres"
      ]
    },
    {
      "cell_type": "code",
      "execution_count": 21,
      "metadata": {
        "id": "Ctib-bB_N2wK"
      },
      "outputs": [],
      "source": [
        "net_films['duration'] = net_films['duration'].str.replace('min','')\n",
        "net_films['duration'] =net_films['duration'].astype(int)\n"
      ]
    },
    {
      "cell_type": "code",
      "execution_count": 22,
      "metadata": {
        "colab": {
          "base_uri": "https://localhost:8080/",
          "height": 704
        },
        "id": "7NL4P7t4Pj9J",
        "outputId": "7e37c27a-2d0c-4228-f82a-9f920f1cf800"
      },
      "outputs": [
        {
          "data": {
            "image/png": "[encoded data removed]",
            "text/plain": [
              "<Figure size 1000x800 with 1 Axes>"
            ]
          },
          "metadata": {},
          "output_type": "display_data"
        }
      ],
      "source": [
        "sns.set(style=\"darkgrid\")\n",
        "plt.figure(figsize=(10, 8))\n",
        "sns.kdeplot(data=net_films['duration'], shade=True);"
      ]
    },
    {
      "cell_type": "markdown",
      "metadata": {
        "id": "XW-xXve07DtQ"
      },
      "source": [
        "# Lets work with TV shows"
      ]
    },
    {
      "cell_type": "code",
      "execution_count": 23,
      "metadata": {
        "colab": {
          "base_uri": "https://localhost:8080/"
        },
        "id": "cl-rvDBeQvCe",
        "outputId": "07713642-1828-41f5-9b4c-e03c87a59196"
      },
      "outputs": [
        {
          "data": {
            "text/plain": [
              "(2665, 12)"
            ]
          },
          "execution_count": 23,
          "metadata": {},
          "output_type": "execute_result"
        }
      ],
      "source": [
        "net_shows.shape"
      ]
    },
    {
      "cell_type": "markdown",
      "metadata": {
        "id": "2oBhZJsl9BYB"
      },
      "source": [
        "\n",
        "Top 10 countries that produce TV\n",
        "shows"
      ]
    },
    {
      "cell_type": "code",
      "execution_count": 24,
      "metadata": {
        "id": "gvm7TXDG5O1Q"
      },
      "outputs": [],
      "source": [
        "country_count={}\n",
        "col=net_shows['country']\n",
        "for i in col:\n",
        "  i=i.replace(' ','')\n",
        "  i=list(i.split(','))\n",
        "  for j in i:\n",
        "    country_count[j]=country_count.get(j,1)+1"
      ]
    },
    {
      "cell_type": "code",
      "execution_count": 25,
      "metadata": {
        "id": "KHBb_hzS5O3q"
      },
      "outputs": [],
      "source": [
        "popular_countries=sorted(country_count.items(), key=lambda item: country_count[item[0]], reverse=True)"
      ]
    },
    {
      "cell_type": "code",
      "execution_count": 26,
      "metadata": {
        "id": "A3woobkf5O6G"
      },
      "outputs": [],
      "source": [
        "popular_countries=popular_countries[:10]\n",
        "names=[name for name,amount in popular_countries]\n",
        "amount=[amount for name, amount in popular_countries]"
      ]
    },
    {
      "cell_type": "code",
      "execution_count": 27,
      "metadata": {
        "colab": {
          "base_uri": "https://localhost:8080/",
          "height": 976
        },
        "id": "t901Ajav5O-r",
        "outputId": "8f66164c-a531-49af-c504-baaab7af2aac"
      },
      "outputs": [
        {
          "data": {
            "text/plain": [
              "Text(0.5, 1.0, 'Country')"
            ]
          },
          "execution_count": 27,
          "metadata": {},
          "output_type": "execute_result"
        },
        {
          "data": {
            "image/png": "[encoded data removed]",
            "text/plain": [
              "<Figure size 1000x1000 with 1 Axes>"
            ]
          },
          "metadata": {},
          "output_type": "display_data"
        }
      ],
      "source": [
        "plt.figure(figsize=(10,10))\n",
        "ax = sns.barplot(x=names, y=amount)\n",
        "ax.set_xticklabels(names, rotation=70)\n",
        "ax.set_ylabel(\"Count of TV shows\")\n",
        "ax.set_title(\"Country\")"
      ]
    },
    {
      "cell_type": "markdown",
      "metadata": {
        "id": "4hrQ4a_NBCsZ"
      },
      "source": [
        "The most popular genres in TV show"
      ]
    },
    {
      "cell_type": "code",
      "execution_count": 28,
      "metadata": {
        "id": "yW-wS4fe5PBG"
      },
      "outputs": [],
      "source": [
        "genres_count={}\n",
        "col=net_shows['listed_in']\n",
        "for i in col:\n",
        "  i=i.replace(' ','')\n",
        "  i=list(i.split(','))\n",
        "  for j in i:\n",
        "    genres_count[j]=genres_count.get(j,1)+1"
      ]
    },
    {
      "cell_type": "code",
      "execution_count": 29,
      "metadata": {
        "id": "0i3ATKyk5PDn"
      },
      "outputs": [],
      "source": [
        "popular_genres=sorted(genres_count.items(), key=lambda item: genres_count[item[0]], reverse=True)"
      ]
    },
    {
      "cell_type": "code",
      "execution_count": 30,
      "metadata": {
        "id": "Up5PtAiK5PF0"
      },
      "outputs": [],
      "source": [
        "popular_genres=popular_genres[:10]\n",
        "genres=[name for name,amount in popular_genres]\n",
        "amount=[amount for name, amount in popular_genres]"
      ]
    },
    {
      "cell_type": "code",
      "execution_count": 31,
      "metadata": {
        "colab": {
          "base_uri": "https://localhost:8080/",
          "height": 1000
        },
        "id": "xVnTTLoz5PII",
        "outputId": "e8642954-54f8-4d4c-c298-3670f537ec0b"
      },
      "outputs": [
        {
          "data": {
            "text/plain": [
              "Text(0.5, 1.0, 'Genres')"
            ]
          },
          "execution_count": 31,
          "metadata": {},
          "output_type": "execute_result"
        },
        {
          "data": {
            "image/png": "[encoded data removed]",
            "text/plain": [
              "<Figure size 1000x1000 with 1 Axes>"
            ]
          },
          "metadata": {},
          "output_type": "display_data"
        }
      ],
      "source": [
        "plt.figure(figsize=(10,10))\n",
        "ax = sns.barplot(x=genres, y=amount)\n",
        "ax.set_xticklabels(genres, rotation=70)\n",
        "ax.set_ylabel(\"Count   TV shows \")\n",
        "ax.set_title(\"Genres\")"
      ]
    },
    {
      "cell_type": "markdown",
      "metadata": {
        "id": "b3RCVnklD4V7"
      },
      "source": [
        "Top 10 longest TV shows"
      ]
    },
    {
      "cell_type": "code",
      "execution_count": 32,
      "metadata": {
        "colab": {
          "base_uri": "https://localhost:8080/",
          "height": 423
        },
        "id": "_jXcfBn3D3su",
        "outputId": "597f10c0-59db-42cc-86e2-3e8ecac7ce7a"
      },
      "outputs": [
        {
          "data": {
            "application/vnd.microsoft.datawrangler.viewer.v0+json": {
              "columns": [
                {
                  "name": "index",
                  "rawType": "int64",
                  "type": "integer"
                },
                {
                  "name": "title",
                  "rawType": "object",
                  "type": "string"
                },
                {
                  "name": "duration",
                  "rawType": "object",
                  "type": "string"
                }
              ],
              "conversionMethod": "pd.DataFrame",
              "ref": "9fb647f6-3aea-489c-ba72-237f3c69a5fe",
              "rows": [
                [
                  "1",
                  "Blood & Water",
                  "2 Seasons"
                ],
                [
                  "2",
                  "Ganglands",
                  "1 Season"
                ],
                [
                  "3",
                  "Jailbirds New Orleans",
                  "1 Season"
                ],
                [
                  "4",
                  "Kota Factory",
                  "2 Seasons"
                ],
                [
                  "5",
                  "Midnight Mass",
                  "1 Season"
                ],
                [
                  "8",
                  "The Great British Baking Show",
                  "9 Seasons"
                ],
                [
                  "10",
                  "Vendetta: Truth, Lies and The Mafia",
                  "1 Season"
                ],
                [
                  "11",
                  "Bangkok Breaking",
                  "1 Season"
                ],
                [
                  "14",
                  "Crime Stories: India Detectives",
                  "1 Season"
                ],
                [
                  "15",
                  "Dear White People",
                  "4 Seasons"
                ],
                [
                  "17",
                  "Falsa identidad",
                  "2 Seasons"
                ],
                [
                  "19",
                  "Jaguar",
                  "1 Season"
                ],
                [
                  "20",
                  "Monsters Inside: The 24 Faces of Billy Milligan",
                  "1 Season"
                ],
                [
                  "21",
                  "Resurrection: Ertugrul",
                  "5 Seasons"
                ],
                [
                  "25",
                  "Love on the Spectrum",
                  "2 Seasons"
                ],
                [
                  "31",
                  "Chicago Party Aunt",
                  "1 Season"
                ],
                [
                  "32",
                  "Sex Education",
                  "3 Seasons"
                ],
                [
                  "33",
                  "Squid Game",
                  "1 Season"
                ],
                [
                  "34",
                  "Tayo and Little Wizards",
                  "1 Season"
                ],
                [
                  "37",
                  "Angry Birds",
                  "1 Season"
                ],
                [
                  "39",
                  "Chhota Bheem",
                  "3 Seasons"
                ],
                [
                  "40",
                  "He-Man and the Masters of the Universe",
                  "1 Season"
                ],
                [
                  "47",
                  "The Smart Money Woman",
                  "1 Season"
                ],
                [
                  "49",
                  "Castle and Castle",
                  "2 Seasons"
                ],
                [
                  "50",
                  "Dharmakshetra",
                  "1 Season"
                ],
                [
                  "55",
                  "Nailed It",
                  "6 Seasons"
                ],
                [
                  "65",
                  "Numberblocks",
                  "6 Seasons"
                ],
                [
                  "66",
                  "Raja Rasoi Aur Anya Kahaniyan",
                  "1 Season"
                ],
                [
                  "67",
                  "Saved by the Bell",
                  "9 Seasons"
                ],
                [
                  "69",
                  "Stories by Rabindranath Tagore",
                  "1 Season"
                ],
                [
                  "70",
                  "Too Hot To Handle: Latino",
                  "1 Season"
                ],
                [
                  "72",
                  "Jack Whitehall: Travels with My Father",
                  "5 Seasons"
                ],
                [
                  "74",
                  "The World's Most Amazing Vacation Rentals",
                  "2 Seasons"
                ],
                [
                  "76",
                  "Yowamushi Pedal",
                  "1 Season"
                ],
                [
                  "82",
                  "Lucifer",
                  "6 Seasons"
                ],
                [
                  "83",
                  "Metal Shop Masters",
                  "1 Season"
                ],
                [
                  "85",
                  "PokÃ©mon Master Journeys: The Series",
                  "1 Season"
                ],
                [
                  "87",
                  "Titipo Titipo",
                  "2 Seasons"
                ],
                [
                  "89",
                  "Mighty Raju",
                  "4 Seasons"
                ],
                [
                  "92",
                  "Into the Night",
                  "2 Seasons"
                ],
                [
                  "95",
                  "The Circle",
                  "3 Seasons"
                ],
                [
                  "97",
                  "Kid Cosmic",
                  "2 Seasons"
                ],
                [
                  "98",
                  "Octonauts: Above & Beyond",
                  "1 Season"
                ],
                [
                  "99",
                  "On the Verge",
                  "1 Season"
                ],
                [
                  "100",
                  "Tobot Galaxy Detectives",
                  "2 Seasons"
                ],
                [
                  "102",
                  "Countdown: Inspiration4 Mission to Space",
                  "1 Season"
                ],
                [
                  "104",
                  "Tayo the Little Bus",
                  "2 Seasons"
                ],
                [
                  "106",
                  "Bunk'd",
                  "5 Seasons"
                ],
                [
                  "108",
                  "Dive Club",
                  "1 Season"
                ],
                [
                  "109",
                  "La casa de papel",
                  "5 Seasons"
                ]
              ],
              "shape": {
                "columns": 2,
                "rows": 2665
              }
            },
            "text/html": [
              "<div>\n",
              "<style scoped>\n",
              "    .dataframe tbody tr th:only-of-type {\n",
              "        vertical-align: middle;\n",
              "    }\n",
              "\n",
              "    .dataframe tbody tr th {\n",
              "        vertical-align: top;\n",
              "    }\n",
              "\n",
              "    .dataframe thead th {\n",
              "        text-align: right;\n",
              "    }\n",
              "</style>\n",
              "<table border=\"1\" class=\"dataframe\">\n",
              "  <thead>\n",
              "    <tr style=\"text-align: right;\">\n",
              "      <th></th>\n",
              "      <th>title</th>\n",
              "      <th>duration</th>\n",
              "    </tr>\n",
              "  </thead>\n",
              "  <tbody>\n",
              "    <tr>\n",
              "      <th>1</th>\n",
              "      <td>Blood &amp; Water</td>\n",
              "      <td>2 Seasons</td>\n",
              "    </tr>\n",
              "    <tr>\n",
              "      <th>2</th>\n",
              "      <td>Ganglands</td>\n",
              "      <td>1 Season</td>\n",
              "    </tr>\n",
              "    <tr>\n",
              "      <th>3</th>\n",
              "      <td>Jailbirds New Orleans</td>\n",
              "      <td>1 Season</td>\n",
              "    </tr>\n",
              "    <tr>\n",
              "      <th>4</th>\n",
              "      <td>Kota Factory</td>\n",
              "      <td>2 Seasons</td>\n",
              "    </tr>\n",
              "    <tr>\n",
              "      <th>5</th>\n",
              "      <td>Midnight Mass</td>\n",
              "      <td>1 Season</td>\n",
              "    </tr>\n",
              "    <tr>\n",
              "      <th>...</th>\n",
              "      <td>...</td>\n",
              "      <td>...</td>\n",
              "    </tr>\n",
              "    <tr>\n",
              "      <th>8796</th>\n",
              "      <td>Yunus Emre</td>\n",
              "      <td>2 Seasons</td>\n",
              "    </tr>\n",
              "    <tr>\n",
              "      <th>8797</th>\n",
              "      <td>Zak Storm</td>\n",
              "      <td>3 Seasons</td>\n",
              "    </tr>\n",
              "    <tr>\n",
              "      <th>8800</th>\n",
              "      <td>Zindagi Gulzar Hai</td>\n",
              "      <td>1 Season</td>\n",
              "    </tr>\n",
              "    <tr>\n",
              "      <th>8803</th>\n",
              "      <td>Zombie Dumb</td>\n",
              "      <td>2 Seasons</td>\n",
              "    </tr>\n",
              "    <tr>\n",
              "      <th>8807</th>\n",
              "      <td>Parasyte: The Grey</td>\n",
              "      <td>1 Season</td>\n",
              "    </tr>\n",
              "  </tbody>\n",
              "</table>\n",
              "<p>2665 rows × 2 columns</p>\n",
              "</div>"
            ],
            "text/plain": [
              "                      title   duration\n",
              "1             Blood & Water  2 Seasons\n",
              "2                 Ganglands   1 Season\n",
              "3     Jailbirds New Orleans   1 Season\n",
              "4              Kota Factory  2 Seasons\n",
              "5             Midnight Mass   1 Season\n",
              "...                     ...        ...\n",
              "8796             Yunus Emre  2 Seasons\n",
              "8797              Zak Storm  3 Seasons\n",
              "8800     Zindagi Gulzar Hai   1 Season\n",
              "8803            Zombie Dumb  2 Seasons\n",
              "8807     Parasyte: The Grey   1 Season\n",
              "\n",
              "[2665 rows x 2 columns]"
            ]
          },
          "execution_count": 32,
          "metadata": {},
          "output_type": "execute_result"
        }
      ],
      "source": [
        "features = ['title', 'duration']\n",
        "durations = net_shows[features]\n",
        "durations"
      ]
    },
    {
      "cell_type": "code",
      "execution_count": 33,
      "metadata": {
        "colab": {
          "base_uri": "https://localhost:8080/",
          "height": 423
        },
        "id": "CeUMcBCDD3pw",
        "outputId": "9a47c4ee-a982-46aa-98d1-6d384a1c6a57"
      },
      "outputs": [
        {
          "data": {
            "application/vnd.microsoft.datawrangler.viewer.v0+json": {
              "columns": [
                {
                  "name": "index",
                  "rawType": "int64",
                  "type": "integer"
                },
                {
                  "name": "title",
                  "rawType": "object",
                  "type": "string"
                },
                {
                  "name": "duration",
                  "rawType": "object",
                  "type": "string"
                },
                {
                  "name": "no_of_seasons",
                  "rawType": "object",
                  "type": "string"
                }
              ],
              "conversionMethod": "pd.DataFrame",
              "ref": "cf657092-619b-4c86-9c68-334a32ddb5d0",
              "rows": [
                [
                  "1",
                  "Blood & Water",
                  "2 Seasons",
                  "2s"
                ],
                [
                  "2",
                  "Ganglands",
                  "1 Season",
                  "1"
                ],
                [
                  "3",
                  "Jailbirds New Orleans",
                  "1 Season",
                  "1"
                ],
                [
                  "4",
                  "Kota Factory",
                  "2 Seasons",
                  "2s"
                ],
                [
                  "5",
                  "Midnight Mass",
                  "1 Season",
                  "1"
                ],
                [
                  "8",
                  "The Great British Baking Show",
                  "9 Seasons",
                  "9s"
                ],
                [
                  "10",
                  "Vendetta: Truth, Lies and The Mafia",
                  "1 Season",
                  "1"
                ],
                [
                  "11",
                  "Bangkok Breaking",
                  "1 Season",
                  "1"
                ],
                [
                  "14",
                  "Crime Stories: India Detectives",
                  "1 Season",
                  "1"
                ],
                [
                  "15",
                  "Dear White People",
                  "4 Seasons",
                  "4s"
                ],
                [
                  "17",
                  "Falsa identidad",
                  "2 Seasons",
                  "2s"
                ],
                [
                  "19",
                  "Jaguar",
                  "1 Season",
                  "1"
                ],
                [
                  "20",
                  "Monsters Inside: The 24 Faces of Billy Milligan",
                  "1 Season",
                  "1"
                ],
                [
                  "21",
                  "Resurrection: Ertugrul",
                  "5 Seasons",
                  "5s"
                ],
                [
                  "25",
                  "Love on the Spectrum",
                  "2 Seasons",
                  "2s"
                ],
                [
                  "31",
                  "Chicago Party Aunt",
                  "1 Season",
                  "1"
                ],
                [
                  "32",
                  "Sex Education",
                  "3 Seasons",
                  "3s"
                ],
                [
                  "33",
                  "Squid Game",
                  "1 Season",
                  "1"
                ],
                [
                  "34",
                  "Tayo and Little Wizards",
                  "1 Season",
                  "1"
                ],
                [
                  "37",
                  "Angry Birds",
                  "1 Season",
                  "1"
                ],
                [
                  "39",
                  "Chhota Bheem",
                  "3 Seasons",
                  "3s"
                ],
                [
                  "40",
                  "He-Man and the Masters of the Universe",
                  "1 Season",
                  "1"
                ],
                [
                  "47",
                  "The Smart Money Woman",
                  "1 Season",
                  "1"
                ],
                [
                  "49",
                  "Castle and Castle",
                  "2 Seasons",
                  "2s"
                ],
                [
                  "50",
                  "Dharmakshetra",
                  "1 Season",
                  "1"
                ],
                [
                  "55",
                  "Nailed It",
                  "6 Seasons",
                  "6s"
                ],
                [
                  "65",
                  "Numberblocks",
                  "6 Seasons",
                  "6s"
                ],
                [
                  "66",
                  "Raja Rasoi Aur Anya Kahaniyan",
                  "1 Season",
                  "1"
                ],
                [
                  "67",
                  "Saved by the Bell",
                  "9 Seasons",
                  "9s"
                ],
                [
                  "69",
                  "Stories by Rabindranath Tagore",
                  "1 Season",
                  "1"
                ],
                [
                  "70",
                  "Too Hot To Handle: Latino",
                  "1 Season",
                  "1"
                ],
                [
                  "72",
                  "Jack Whitehall: Travels with My Father",
                  "5 Seasons",
                  "5s"
                ],
                [
                  "74",
                  "The World's Most Amazing Vacation Rentals",
                  "2 Seasons",
                  "2s"
                ],
                [
                  "76",
                  "Yowamushi Pedal",
                  "1 Season",
                  "1"
                ],
                [
                  "82",
                  "Lucifer",
                  "6 Seasons",
                  "6s"
                ],
                [
                  "83",
                  "Metal Shop Masters",
                  "1 Season",
                  "1"
                ],
                [
                  "85",
                  "PokÃ©mon Master Journeys: The Series",
                  "1 Season",
                  "1"
                ],
                [
                  "87",
                  "Titipo Titipo",
                  "2 Seasons",
                  "2s"
                ],
                [
                  "89",
                  "Mighty Raju",
                  "4 Seasons",
                  "4s"
                ],
                [
                  "92",
                  "Into the Night",
                  "2 Seasons",
                  "2s"
                ],
                [
                  "95",
                  "The Circle",
                  "3 Seasons",
                  "3s"
                ],
                [
                  "97",
                  "Kid Cosmic",
                  "2 Seasons",
                  "2s"
                ],
                [
                  "98",
                  "Octonauts: Above & Beyond",
                  "1 Season",
                  "1"
                ],
                [
                  "99",
                  "On the Verge",
                  "1 Season",
                  "1"
                ],
                [
                  "100",
                  "Tobot Galaxy Detectives",
                  "2 Seasons",
                  "2s"
                ],
                [
                  "102",
                  "Countdown: Inspiration4 Mission to Space",
                  "1 Season",
                  "1"
                ],
                [
                  "104",
                  "Tayo the Little Bus",
                  "2 Seasons",
                  "2s"
                ],
                [
                  "106",
                  "Bunk'd",
                  "5 Seasons",
                  "5s"
                ],
                [
                  "108",
                  "Dive Club",
                  "1 Season",
                  "1"
                ],
                [
                  "109",
                  "La casa de papel",
                  "5 Seasons",
                  "5s"
                ]
              ],
              "shape": {
                "columns": 3,
                "rows": 2665
              }
            },
            "text/html": [
              "<div>\n",
              "<style scoped>\n",
              "    .dataframe tbody tr th:only-of-type {\n",
              "        vertical-align: middle;\n",
              "    }\n",
              "\n",
              "    .dataframe tbody tr th {\n",
              "        vertical-align: top;\n",
              "    }\n",
              "\n",
              "    .dataframe thead th {\n",
              "        text-align: right;\n",
              "    }\n",
              "</style>\n",
              "<table border=\"1\" class=\"dataframe\">\n",
              "  <thead>\n",
              "    <tr style=\"text-align: right;\">\n",
              "      <th></th>\n",
              "      <th>title</th>\n",
              "      <th>duration</th>\n",
              "      <th>no_of_seasons</th>\n",
              "    </tr>\n",
              "  </thead>\n",
              "  <tbody>\n",
              "    <tr>\n",
              "      <th>1</th>\n",
              "      <td>Blood &amp; Water</td>\n",
              "      <td>2 Seasons</td>\n",
              "      <td>2s</td>\n",
              "    </tr>\n",
              "    <tr>\n",
              "      <th>2</th>\n",
              "      <td>Ganglands</td>\n",
              "      <td>1 Season</td>\n",
              "      <td>1</td>\n",
              "    </tr>\n",
              "    <tr>\n",
              "      <th>3</th>\n",
              "      <td>Jailbirds New Orleans</td>\n",
              "      <td>1 Season</td>\n",
              "      <td>1</td>\n",
              "    </tr>\n",
              "    <tr>\n",
              "      <th>4</th>\n",
              "      <td>Kota Factory</td>\n",
              "      <td>2 Seasons</td>\n",
              "      <td>2s</td>\n",
              "    </tr>\n",
              "    <tr>\n",
              "      <th>5</th>\n",
              "      <td>Midnight Mass</td>\n",
              "      <td>1 Season</td>\n",
              "      <td>1</td>\n",
              "    </tr>\n",
              "    <tr>\n",
              "      <th>...</th>\n",
              "      <td>...</td>\n",
              "      <td>...</td>\n",
              "      <td>...</td>\n",
              "    </tr>\n",
              "    <tr>\n",
              "      <th>8796</th>\n",
              "      <td>Yunus Emre</td>\n",
              "      <td>2 Seasons</td>\n",
              "      <td>2s</td>\n",
              "    </tr>\n",
              "    <tr>\n",
              "      <th>8797</th>\n",
              "      <td>Zak Storm</td>\n",
              "      <td>3 Seasons</td>\n",
              "      <td>3s</td>\n",
              "    </tr>\n",
              "    <tr>\n",
              "      <th>8800</th>\n",
              "      <td>Zindagi Gulzar Hai</td>\n",
              "      <td>1 Season</td>\n",
              "      <td>1</td>\n",
              "    </tr>\n",
              "    <tr>\n",
              "      <th>8803</th>\n",
              "      <td>Zombie Dumb</td>\n",
              "      <td>2 Seasons</td>\n",
              "      <td>2s</td>\n",
              "    </tr>\n",
              "    <tr>\n",
              "      <th>8807</th>\n",
              "      <td>Parasyte: The Grey</td>\n",
              "      <td>1 Season</td>\n",
              "      <td>1</td>\n",
              "    </tr>\n",
              "  </tbody>\n",
              "</table>\n",
              "<p>2665 rows × 3 columns</p>\n",
              "</div>"
            ],
            "text/plain": [
              "                      title   duration no_of_seasons\n",
              "1             Blood & Water  2 Seasons            2s\n",
              "2                 Ganglands   1 Season             1\n",
              "3     Jailbirds New Orleans   1 Season             1\n",
              "4              Kota Factory  2 Seasons            2s\n",
              "5             Midnight Mass   1 Season             1\n",
              "...                     ...        ...           ...\n",
              "8796             Yunus Emre  2 Seasons            2s\n",
              "8797              Zak Storm  3 Seasons            3s\n",
              "8800     Zindagi Gulzar Hai   1 Season             1\n",
              "8803            Zombie Dumb  2 Seasons            2s\n",
              "8807     Parasyte: The Grey   1 Season             1\n",
              "\n",
              "[2665 rows x 3 columns]"
            ]
          },
          "execution_count": 33,
          "metadata": {},
          "output_type": "execute_result"
        }
      ],
      "source": [
        "durations['no_of_seasons'] = durations['duration'].str.replace(' Season','')\n",
        "durations"
      ]
    },
    {
      "cell_type": "code",
      "execution_count": 34,
      "metadata": {
        "colab": {
          "base_uri": "https://localhost:8080/",
          "height": 423
        },
        "id": "8q92cR-ZD3nH",
        "outputId": "84fe4a9b-10b4-473f-a7bd-47fb9c540120"
      },
      "outputs": [
        {
          "data": {
            "application/vnd.microsoft.datawrangler.viewer.v0+json": {
              "columns": [
                {
                  "name": "index",
                  "rawType": "int64",
                  "type": "integer"
                },
                {
                  "name": "title",
                  "rawType": "object",
                  "type": "string"
                },
                {
                  "name": "duration",
                  "rawType": "object",
                  "type": "string"
                },
                {
                  "name": "no_of_seasons",
                  "rawType": "int32",
                  "type": "integer"
                }
              ],
              "conversionMethod": "pd.DataFrame",
              "ref": "e57fc890-c32c-4a2b-bd3e-fce7003cbd67",
              "rows": [
                [
                  "1",
                  "Blood & Water",
                  "2 Seasons",
                  "2"
                ],
                [
                  "2",
                  "Ganglands",
                  "1 Season",
                  "1"
                ],
                [
                  "3",
                  "Jailbirds New Orleans",
                  "1 Season",
                  "1"
                ],
                [
                  "4",
                  "Kota Factory",
                  "2 Seasons",
                  "2"
                ],
                [
                  "5",
                  "Midnight Mass",
                  "1 Season",
                  "1"
                ],
                [
                  "8",
                  "The Great British Baking Show",
                  "9 Seasons",
                  "9"
                ],
                [
                  "10",
                  "Vendetta: Truth, Lies and The Mafia",
                  "1 Season",
                  "1"
                ],
                [
                  "11",
                  "Bangkok Breaking",
                  "1 Season",
                  "1"
                ],
                [
                  "14",
                  "Crime Stories: India Detectives",
                  "1 Season",
                  "1"
                ],
                [
                  "15",
                  "Dear White People",
                  "4 Seasons",
                  "4"
                ],
                [
                  "17",
                  "Falsa identidad",
                  "2 Seasons",
                  "2"
                ],
                [
                  "19",
                  "Jaguar",
                  "1 Season",
                  "1"
                ],
                [
                  "20",
                  "Monsters Inside: The 24 Faces of Billy Milligan",
                  "1 Season",
                  "1"
                ],
                [
                  "21",
                  "Resurrection: Ertugrul",
                  "5 Seasons",
                  "5"
                ],
                [
                  "25",
                  "Love on the Spectrum",
                  "2 Seasons",
                  "2"
                ],
                [
                  "31",
                  "Chicago Party Aunt",
                  "1 Season",
                  "1"
                ],
                [
                  "32",
                  "Sex Education",
                  "3 Seasons",
                  "3"
                ],
                [
                  "33",
                  "Squid Game",
                  "1 Season",
                  "1"
                ],
                [
                  "34",
                  "Tayo and Little Wizards",
                  "1 Season",
                  "1"
                ],
                [
                  "37",
                  "Angry Birds",
                  "1 Season",
                  "1"
                ],
                [
                  "39",
                  "Chhota Bheem",
                  "3 Seasons",
                  "3"
                ],
                [
                  "40",
                  "He-Man and the Masters of the Universe",
                  "1 Season",
                  "1"
                ],
                [
                  "47",
                  "The Smart Money Woman",
                  "1 Season",
                  "1"
                ],
                [
                  "49",
                  "Castle and Castle",
                  "2 Seasons",
                  "2"
                ],
                [
                  "50",
                  "Dharmakshetra",
                  "1 Season",
                  "1"
                ],
                [
                  "55",
                  "Nailed It",
                  "6 Seasons",
                  "6"
                ],
                [
                  "65",
                  "Numberblocks",
                  "6 Seasons",
                  "6"
                ],
                [
                  "66",
                  "Raja Rasoi Aur Anya Kahaniyan",
                  "1 Season",
                  "1"
                ],
                [
                  "67",
                  "Saved by the Bell",
                  "9 Seasons",
                  "9"
                ],
                [
                  "69",
                  "Stories by Rabindranath Tagore",
                  "1 Season",
                  "1"
                ],
                [
                  "70",
                  "Too Hot To Handle: Latino",
                  "1 Season",
                  "1"
                ],
                [
                  "72",
                  "Jack Whitehall: Travels with My Father",
                  "5 Seasons",
                  "5"
                ],
                [
                  "74",
                  "The World's Most Amazing Vacation Rentals",
                  "2 Seasons",
                  "2"
                ],
                [
                  "76",
                  "Yowamushi Pedal",
                  "1 Season",
                  "1"
                ],
                [
                  "82",
                  "Lucifer",
                  "6 Seasons",
                  "6"
                ],
                [
                  "83",
                  "Metal Shop Masters",
                  "1 Season",
                  "1"
                ],
                [
                  "85",
                  "PokÃ©mon Master Journeys: The Series",
                  "1 Season",
                  "1"
                ],
                [
                  "87",
                  "Titipo Titipo",
                  "2 Seasons",
                  "2"
                ],
                [
                  "89",
                  "Mighty Raju",
                  "4 Seasons",
                  "4"
                ],
                [
                  "92",
                  "Into the Night",
                  "2 Seasons",
                  "2"
                ],
                [
                  "95",
                  "The Circle",
                  "3 Seasons",
                  "3"
                ],
                [
                  "97",
                  "Kid Cosmic",
                  "2 Seasons",
                  "2"
                ],
                [
                  "98",
                  "Octonauts: Above & Beyond",
                  "1 Season",
                  "1"
                ],
                [
                  "99",
                  "On the Verge",
                  "1 Season",
                  "1"
                ],
                [
                  "100",
                  "Tobot Galaxy Detectives",
                  "2 Seasons",
                  "2"
                ],
                [
                  "102",
                  "Countdown: Inspiration4 Mission to Space",
                  "1 Season",
                  "1"
                ],
                [
                  "104",
                  "Tayo the Little Bus",
                  "2 Seasons",
                  "2"
                ],
                [
                  "106",
                  "Bunk'd",
                  "5 Seasons",
                  "5"
                ],
                [
                  "108",
                  "Dive Club",
                  "1 Season",
                  "1"
                ],
                [
                  "109",
                  "La casa de papel",
                  "5 Seasons",
                  "5"
                ]
              ],
              "shape": {
                "columns": 3,
                "rows": 2665
              }
            },
            "text/html": [
              "<div>\n",
              "<style scoped>\n",
              "    .dataframe tbody tr th:only-of-type {\n",
              "        vertical-align: middle;\n",
              "    }\n",
              "\n",
              "    .dataframe tbody tr th {\n",
              "        vertical-align: top;\n",
              "    }\n",
              "\n",
              "    .dataframe thead th {\n",
              "        text-align: right;\n",
              "    }\n",
              "</style>\n",
              "<table border=\"1\" class=\"dataframe\">\n",
              "  <thead>\n",
              "    <tr style=\"text-align: right;\">\n",
              "      <th></th>\n",
              "      <th>title</th>\n",
              "      <th>duration</th>\n",
              "      <th>no_of_seasons</th>\n",
              "    </tr>\n",
              "  </thead>\n",
              "  <tbody>\n",
              "    <tr>\n",
              "      <th>1</th>\n",
              "      <td>Blood &amp; Water</td>\n",
              "      <td>2 Seasons</td>\n",
              "      <td>2</td>\n",
              "    </tr>\n",
              "    <tr>\n",
              "      <th>2</th>\n",
              "      <td>Ganglands</td>\n",
              "      <td>1 Season</td>\n",
              "      <td>1</td>\n",
              "    </tr>\n",
              "    <tr>\n",
              "      <th>3</th>\n",
              "      <td>Jailbirds New Orleans</td>\n",
              "      <td>1 Season</td>\n",
              "      <td>1</td>\n",
              "    </tr>\n",
              "    <tr>\n",
              "      <th>4</th>\n",
              "      <td>Kota Factory</td>\n",
              "      <td>2 Seasons</td>\n",
              "      <td>2</td>\n",
              "    </tr>\n",
              "    <tr>\n",
              "      <th>5</th>\n",
              "      <td>Midnight Mass</td>\n",
              "      <td>1 Season</td>\n",
              "      <td>1</td>\n",
              "    </tr>\n",
              "    <tr>\n",
              "      <th>...</th>\n",
              "      <td>...</td>\n",
              "      <td>...</td>\n",
              "      <td>...</td>\n",
              "    </tr>\n",
              "    <tr>\n",
              "      <th>8796</th>\n",
              "      <td>Yunus Emre</td>\n",
              "      <td>2 Seasons</td>\n",
              "      <td>2</td>\n",
              "    </tr>\n",
              "    <tr>\n",
              "      <th>8797</th>\n",
              "      <td>Zak Storm</td>\n",
              "      <td>3 Seasons</td>\n",
              "      <td>3</td>\n",
              "    </tr>\n",
              "    <tr>\n",
              "      <th>8800</th>\n",
              "      <td>Zindagi Gulzar Hai</td>\n",
              "      <td>1 Season</td>\n",
              "      <td>1</td>\n",
              "    </tr>\n",
              "    <tr>\n",
              "      <th>8803</th>\n",
              "      <td>Zombie Dumb</td>\n",
              "      <td>2 Seasons</td>\n",
              "      <td>2</td>\n",
              "    </tr>\n",
              "    <tr>\n",
              "      <th>8807</th>\n",
              "      <td>Parasyte: The Grey</td>\n",
              "      <td>1 Season</td>\n",
              "      <td>1</td>\n",
              "    </tr>\n",
              "  </tbody>\n",
              "</table>\n",
              "<p>2665 rows × 3 columns</p>\n",
              "</div>"
            ],
            "text/plain": [
              "                      title   duration  no_of_seasons\n",
              "1             Blood & Water  2 Seasons              2\n",
              "2                 Ganglands   1 Season              1\n",
              "3     Jailbirds New Orleans   1 Season              1\n",
              "4              Kota Factory  2 Seasons              2\n",
              "5             Midnight Mass   1 Season              1\n",
              "...                     ...        ...            ...\n",
              "8796             Yunus Emre  2 Seasons              2\n",
              "8797              Zak Storm  3 Seasons              3\n",
              "8800     Zindagi Gulzar Hai   1 Season              1\n",
              "8803            Zombie Dumb  2 Seasons              2\n",
              "8807     Parasyte: The Grey   1 Season              1\n",
              "\n",
              "[2665 rows x 3 columns]"
            ]
          },
          "execution_count": 34,
          "metadata": {},
          "output_type": "execute_result"
        }
      ],
      "source": [
        "durations['no_of_seasons'] = durations['no_of_seasons'].str.replace('s', '')\n",
        "durations['no_of_seasons'] = durations['no_of_seasons'].astype(int)\n",
        "durations"
      ]
    },
    {
      "cell_type": "code",
      "execution_count": 35,
      "metadata": {
        "id": "SlNwYRIpD3AR"
      },
      "outputs": [],
      "source": [
        "t = ['title', 'no_of_seasons']\n",
        "top = durations[t]\n",
        "\n",
        "top = top.sort_values(by='no_of_seasons', ascending=False)"
      ]
    },
    {
      "cell_type": "code",
      "execution_count": 36,
      "metadata": {
        "colab": {
          "base_uri": "https://localhost:8080/",
          "height": 843
        },
        "id": "9WPrziNi5PKp",
        "outputId": "9dce5cd0-b3ba-4463-c7bc-15dbc5bc618f"
      },
      "outputs": [
        {
          "data": {
            "image/png": "[encoded data removed]",
            "text/plain": [
              "<Figure size 1200x700 with 1 Axes>"
            ]
          },
          "metadata": {},
          "output_type": "display_data"
        }
      ],
      "source": [
        "top10 = top[0:10]\n",
        "plt.figure(figsize=(12, 7))\n",
        "\n",
        "plt.bar(top10['title'], top10['no_of_seasons'])\n",
        "plt.xticks(top10['title'], rotation=70);"
      ]
    },
    {
      "cell_type": "markdown",
      "metadata": {
        "id": "lNvBb1SNFDdB"
      },
      "source": [
        "Durations  od TV show"
      ]
    },
    {
      "cell_type": "code",
      "execution_count": 37,
      "metadata": {
        "colab": {
          "base_uri": "https://localhost:8080/",
          "height": 705
        },
        "id": "RVQxBZoyE1de",
        "outputId": "c49cefb1-6e0f-47d0-9ed8-9b2117343156"
      },
      "outputs": [
        {
          "data": {
            "text/plain": [
              "([<matplotlib.axis.XTick at 0x21c354a9310>,\n",
              "  <matplotlib.axis.XTick at 0x21c354aa270>,\n",
              "  <matplotlib.axis.XTick at 0x21c354cde80>,\n",
              "  <matplotlib.axis.XTick at 0x21c354f60c0>,\n",
              "  <matplotlib.axis.XTick at 0x21c354f6a20>,\n",
              "  <matplotlib.axis.XTick at 0x21c354f6450>,\n",
              "  <matplotlib.axis.XTick at 0x21c354f7710>,\n",
              "  <matplotlib.axis.XTick at 0x21c354f7ce0>,\n",
              "  <matplotlib.axis.XTick at 0x21c3551c980>,\n",
              "  <matplotlib.axis.XTick at 0x21c3551d2b0>,\n",
              "  <matplotlib.axis.XTick at 0x21c2e5d80b0>,\n",
              "  <matplotlib.axis.XTick at 0x21c3553d610>,\n",
              "  <matplotlib.axis.XTick at 0x21c3553df40>,\n",
              "  <matplotlib.axis.XTick at 0x21c3553e570>,\n",
              "  <matplotlib.axis.XTick at 0x21c3553eab0>],\n",
              " [Text(1, 0, '1'),\n",
              "  Text(2, 0, '2'),\n",
              "  Text(3, 0, '3'),\n",
              "  Text(4, 0, '4'),\n",
              "  Text(5, 0, '5'),\n",
              "  Text(6, 0, '6'),\n",
              "  Text(7, 0, '7'),\n",
              "  Text(8, 0, '8'),\n",
              "  Text(9, 0, '9'),\n",
              "  Text(10, 0, '10'),\n",
              "  Text(11, 0, '11'),\n",
              "  Text(12, 0, '12'),\n",
              "  Text(13, 0, '13'),\n",
              "  Text(15, 0, '15'),\n",
              "  Text(17, 0, '17')])"
            ]
          },
          "execution_count": 37,
          "metadata": {},
          "output_type": "execute_result"
        },
        {
          "data": {
            "image/png": "[encoded data removed]",
            "text/plain": [
              "<Figure size 1000x800 with 1 Axes>"
            ]
          },
          "metadata": {},
          "output_type": "display_data"
        }
      ],
      "source": [
        "sns.set(style=\"darkgrid\")\n",
        "plt.figure(figsize=(10, 8))\n",
        "sns.kdeplot(data=durations['no_of_seasons'], shade=True)\n",
        "plt.xticks(sorted(durations['no_of_seasons'].unique()))"
      ]
    },
    {
      "cell_type": "code",
      "execution_count": 38,
      "metadata": {
        "id": "QOi4_T5DFJhl"
      },
      "outputs": [],
      "source": [
        "net_films.to_csv('net_films.csv', index=False)  \n",
        "net_shows.to_csv('net_shows.csv', index=False) \n",
        "\n"
      ]
    },
    {
      "cell_type": "code",
      "execution_count": null,
      "metadata": {},
      "outputs": [],
      "source": []
    },
    {
      "cell_type": "code",
      "execution_count": null,
      "metadata": {},
      "outputs": [],
      "source": []
    },
    {
      "cell_type": "code",
      "execution_count": null,
      "metadata": {},
      "outputs": [],
      "source": []
    },
    {
      "cell_type": "code",
      "execution_count": null,
      "metadata": {},
      "outputs": [],
      "source": []
    },
    {
      "cell_type": "code",
      "execution_count": null,
      "metadata": {},
      "outputs": [],
      "source": []
    },
    {
      "cell_type": "code",
      "execution_count": null,
      "metadata": {},
      "outputs": [],
      "source": []
    },
    {
      "cell_type": "code",
      "execution_count": null,
      "metadata": {},
      "outputs": [],
      "source": []
    },
    {
      "cell_type": "code",
      "execution_count": null,
      "metadata": {},
      "outputs": [],
      "source": []
    },
    {
      "cell_type": "code",
      "execution_count": null,
      "metadata": {},
      "outputs": [],
      "source": []
    },
    {
      "cell_type": "code",
      "execution_count": null,
      "metadata": {},
      "outputs": [],
      "source": []
    },
    {
      "cell_type": "code",
      "execution_count": null,
      "metadata": {},
      "outputs": [],
      "source": []
    },
    {
      "cell_type": "code",
      "execution_count": null,
      "metadata": {},
      "outputs": [],
      "source": []
    },
    {
      "cell_type": "code",
      "execution_count": null,
      "metadata": {},
      "outputs": [],
      "source": []
    },
    {
      "cell_type": "code",
      "execution_count": null,
      "metadata": {},
      "outputs": [],
      "source": []
    },
    {
      "cell_type": "code",
      "execution_count": null,
      "metadata": {},
      "outputs": [],
      "source": []
    },
    {
      "cell_type": "code",
      "execution_count": null,
      "metadata": {},
      "outputs": [],
      "source": []
    },
    {
      "cell_type": "code",
      "execution_count": null,
      "metadata": {},
      "outputs": [],
      "source": []
    }
  ],
  "metadata": {
    "colab": {
      "provenance": [],
      "toc_visible": true
    },
    "kernelspec": {
      "display_name": "Python 3",
      "name": "python3"
    },
    "language_info": {
      "codemirror_mode": {
        "name": "ipython",
        "version": 3
      },
      "file_extension": ".py",
      "mimetype": "text/x-python",
      "name": "python",
      "nbconvert_exporter": "python",
      "pygments_lexer": "ipython3",
      "version": "3.12.10"
    }
  },
  "nbformat": 4,
  "nbformat_minor": 0
}
